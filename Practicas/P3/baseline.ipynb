{
 "cells": [
  {
   "cell_type": "code",
   "execution_count": 2,
   "id": "050b9fb1",
   "metadata": {},
   "outputs": [],
   "source": [
    "#Generate Baseline solution with a RandomForest\n",
    "from sklearn.ensemble import RandomForestClassifier\n",
    "import pandas as pd\n",
    "\n",
    "# import data\n",
    "train = pd.read_csv('train_project3.csv',)\n",
    "test = pd.read_csv('test_project3.csv')\n",
    "\n",
    "#train the model -> this is a baseline, only the simple features are used\n",
    "model = RandomForestClassifier()\n",
    "X = train[['Age','Driving_License','Annual_Premium','Vintage','Region_Code']]\n",
    "y = train['Response']\n",
    "model.fit(X,y)\n",
    "\n",
    "# evaluate the test set\n",
    "X_test = test[['Age','Driving_License','Annual_Premium','Vintage','Region_Code']]\n",
    "y_test = model.predict(X_test)\n",
    "\n",
    "# save our predictions\n",
    "test['Response'] = y_test\n",
    "test[['id','Response']].to_csv('my_solution.csv',index=None)"
   ]
  },
  {
   "cell_type": "code",
   "execution_count": null,
   "id": "9d1bf0b5",
   "metadata": {},
   "outputs": [],
   "source": []
  }
 ],
 "metadata": {
  "kernelspec": {
   "display_name": "Python 3 (ipykernel)",
   "language": "python",
   "name": "python3"
  },
  "language_info": {
   "codemirror_mode": {
    "name": "ipython",
    "version": 3
   },
   "file_extension": ".py",
   "mimetype": "text/x-python",
   "name": "python",
   "nbconvert_exporter": "python",
   "pygments_lexer": "ipython3",
   "version": "3.11.4"
  }
 },
 "nbformat": 4,
 "nbformat_minor": 5
}
